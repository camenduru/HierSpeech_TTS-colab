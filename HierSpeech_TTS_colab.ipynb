{
  "cells": [
    {
      "cell_type": "markdown",
      "metadata": {
        "id": "view-in-github"
      },
      "source": [
        "[![Open In Colab](https://colab.research.google.com/assets/colab-badge.svg)](https://colab.research.google.com/github/camenduru/HierSpeech_TTS-colab/blob/main/HierSpeech_TTS_colab.ipynb)"
      ]
    },
    {
      "cell_type": "code",
      "execution_count": null,
      "metadata": {
        "id": "VjYy0F2gZIPR"
      },
      "outputs": [],
      "source": [
        "%cd /content\n",
        "!git clone -b dev https://github.com/camenduru/HierSpeech_TTS-hf\n",
        "%cd /content/HierSpeech_TTS-hf\n",
        "\n",
        "!apt -y install -qq aria2 espeak-ng\n",
        "!aria2c --console-log-level=error -c -x 16 -s 16 -k 1M https://huggingface.co/audo/HierSpeechpp/resolve/main/hierspeechpp_eng_kor/hierspeechpp_v1.1_ckpt.pth?download=true -d /content/HierSpeech_TTS-hf/logs/hierspeechpp_eng_kor -o hierspeechpp_v1.1_ckpt.pth\n",
        "!aria2c --console-log-level=error -c -x 16 -s 16 -k 1M https://huggingface.co/audo/HierSpeechpp/resolve/main/ttv_libritts_v1/ttv_lt960_ckpt.pth?download=true -d /content/HierSpeech_TTS-hf/logs/ttv_libritts_v1 -o ttv_lt960_ckpt.pth\n",
        "!aria2c --console-log-level=error -c -x 16 -s 16 -k 1M https://huggingface.co/spaces/LeeSangHoon/HierSpeech_TTS/resolve/main/example/female.wav?download=true -d /content/HierSpeech_TTS-hf/example -o female.wav\n",
        "!aria2c --console-log-level=error -c -x 16 -s 16 -k 1M https://huggingface.co/spaces/LeeSangHoon/HierSpeech_TTS/resolve/main/speechsr24k/G_340000.pth?download=true -d /content/HierSpeech_TTS-hf/speechsr24k -o G_340000.pth\n",
        "!aria2c --console-log-level=error -c -x 16 -s 16 -k 1M https://huggingface.co/spaces/LeeSangHoon/HierSpeech_TTS/resolve/main/speechsr48k/G_100000.pth?download=true -d /content/HierSpeech_TTS-hf/speechsr48k -o G_100000.pth\n",
        "!aria2c --console-log-level=error -c -x 16 -s 16 -k 1M https://huggingface.co/spaces/LeeSangHoon/HierSpeech_TTS/resolve/main/denoiser/g_best?download=true -d /content/HierSpeech_TTS-hf/denoiser -o g_best\n",
        "\n",
        "!pip install -q timm einops unidecode phonemizer pesq gradio\n",
        "\n",
        "!python app.py"
      ]
    }
  ],
  "metadata": {
    "accelerator": "GPU",
    "colab": {
      "gpuType": "T4",
      "provenance": []
    },
    "kernelspec": {
      "display_name": "Python 3",
      "name": "python3"
    },
    "language_info": {
      "name": "python"
    }
  },
  "nbformat": 4,
  "nbformat_minor": 0
}
